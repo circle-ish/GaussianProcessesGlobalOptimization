{
 "cells": [
  {
   "cell_type": "code",
   "execution_count": 1,
   "metadata": {
    "collapsed": false,
    "scrolled": false
   },
   "outputs": [
    {
     "name": "stderr",
     "output_type": "stream",
     "text": [
      "/home/bot/prog/anaconda2/lib/python2.7/site-packages/scipy/interpolate/fitpack.py:975: RuntimeWarning: The required storage space exceeds the available storage space.\n",
      "Probable causes: nxest or nyest too small or s is too small. (fp>s)\n",
      "\tkx,ky=3,3 nx,ny=17,17 m=400 fp=1.494751 s=1.000000\n",
      "  warnings.warn(RuntimeWarning(_iermess2[ierm][0] + _mess))\n"
     ]
    },
    {
     "data": {
      "image/png": "[encoded data removed]",
      "text/plain": [
       "<matplotlib.figure.Figure at 0x7ffaeb166710>"
      ]
     },
     "metadata": {},
     "output_type": "display_data"
    },
    {
     "name": "stdout",
     "output_type": "stream",
     "text": [
      "[404, 1913, 1177, 2198, 106, 782, 1959, 1484, 2270, 246, 1662, 1433, 1380, 221, 648, 1115, 842, 1237, 958, 116, 2478, 1789, 712, 2473, 873, 1386, 1589, 2045, 1754, 1120, 2311, 1306, 1786, 2028, 2326, 840, 1556, 314, 1968, 1300, 1297, 1122, 706, 995, 1266, 2122, 1403, 2153, 1662, 1124, 2417, 413, 1332, 1384, 1230, 1888, 1288, 2286, 1969, 1859, 1556, 2324, 1012, 1637, 1111, 771, 1439, 665, 231, 1655, 1623, 2172, 1597, 160, 418, 489, 488, 1685, 91, 609, 1831, 1242, 355, 2439, 473, 1356, 1196, 828, 1714, 174, 1848, 2346, 1389, 841, 2272, 1033, 39, 1824, 2149, 98]\n"
     ]
    }
   ],
   "source": [
    "import numpy as np\n",
    "from scipy import interpolate\n",
    "from scipy.stats import multivariate_normal\n",
    "import matplotlib.pyplot as plt\n",
    "import csv\n",
    "import datasets\n",
    "%matplotlib inline \n",
    "\n",
    "\n",
    "dim = 5\n",
    "low = 0\n",
    "amplitude=100\n",
    "step=dim * 10\n",
    "no = 20\n",
    "window = 5\n",
    "factor = 10 * 2\n",
    "s = 1\n",
    "seed = 22 #two peaks: 123456; one peak: 1234567; brain: 1234; two peaks and ring: 123; small areas: 1\n",
    "\n",
    "data, _, X, Y, Z, _, _ = datasets.ranDataCreate(step, no, window, dim, low, factor, s, amplitude, seed, save=0)\n",
    "datasets.ranDataPlot(X, Y, Z)\n",
    "\n",
    "points = []\n",
    "for i in range(100):\n",
    "    points.append(np.random.choice(len(data)))\n",
    "\n",
    "print points"
   ]
  },
  {
   "cell_type": "code",
   "execution_count": null,
   "metadata": {
    "collapsed": true
   },
   "outputs": [],
   "source": []
  },
  {
   "cell_type": "code",
   "execution_count": null,
   "metadata": {
    "collapsed": true
   },
   "outputs": [],
   "source": []
  }
 ],
 "metadata": {
  "kernelspec": {
   "display_name": "Python 2",
   "language": "python",
   "name": "python2"
  },
  "language_info": {
   "codemirror_mode": {
    "name": "ipython",
    "version": 2
   },
   "file_extension": ".py",
   "mimetype": "text/x-python",
   "name": "python",
   "nbconvert_exporter": "python",
   "pygments_lexer": "ipython2",
   "version": "2.7.11"
  }
 },
 "nbformat": 4,
 "nbformat_minor": 0
}
